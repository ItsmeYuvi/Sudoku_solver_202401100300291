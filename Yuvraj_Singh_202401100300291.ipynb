{
  "nbformat": 4,
  "nbformat_minor": 0,
  "metadata": {
    "colab": {
      "provenance": []
    },
    "kernelspec": {
      "name": "python3",
      "display_name": "Python 3"
    },
    "language_info": {
      "name": "python"
    }
  },
  "cells": [
    {
      "cell_type": "code",
      "execution_count": 6,
      "metadata": {
        "colab": {
          "base_uri": "https://localhost:8080/"
        },
        "id": "U8PGbcKzjb8Z",
        "outputId": "243cd914-e7a7-4050-902a-12a0f45f31db"
      },
      "outputs": [
        {
          "output_type": "stream",
          "name": "stdout",
          "text": [
            "Original Sudoku Board:\n",
            "5 3 0 | 0 7 0 | 0 0 0 \n",
            "6 0 0 | 1 9 5 | 0 0 0 \n",
            "0 9 8 | 0 0 0 | 0 6 0 \n",
            "- - - - - - - - - - -\n",
            "8 0 0 | 0 6 0 | 0 0 3 \n",
            "4 0 0 | 8 0 3 | 0 0 1 \n",
            "7 0 0 | 0 2 0 | 0 0 6 \n",
            "- - - - - - - - - - -\n",
            "0 6 0 | 0 0 0 | 2 8 0 \n",
            "0 0 0 | 4 1 9 | 0 0 5 \n",
            "0 0 0 | 0 8 0 | 0 7 9 \n",
            "\n",
            "Solved Sudoku Board:\n",
            "5 3 4 | 6 7 8 | 9 1 2 \n",
            "6 7 2 | 1 9 5 | 3 4 8 \n",
            "1 9 8 | 3 4 2 | 5 6 7 \n",
            "- - - - - - - - - - -\n",
            "8 5 9 | 7 6 1 | 4 2 3 \n",
            "4 2 6 | 8 5 3 | 7 9 1 \n",
            "7 1 3 | 9 2 4 | 8 5 6 \n",
            "- - - - - - - - - - -\n",
            "9 6 1 | 5 3 7 | 2 8 4 \n",
            "2 8 7 | 4 1 9 | 6 3 5 \n",
            "3 4 5 | 2 8 6 | 1 7 9 \n"
          ]
        }
      ],
      "source": [
        "def is_valid(board, row, col, num):\n",
        "    \"\"\"\n",
        "    Check if placing 'num' in the given cell (row, col) is valid.\n",
        "    Ensures that the number is not repeated in the row, column, or 3x3 subgrid.\n",
        "    \"\"\"\n",
        "    for i in range(9):\n",
        "        if board[row][i] == num or board[i][col] == num:\n",
        "            return False\n",
        "\n",
        "    start_row, start_col = 3 * (row // 3), 3 * (col // 3)\n",
        "    for i in range(3):\n",
        "        for j in range(3):\n",
        "            if board[start_row + i][start_col + j] == num:\n",
        "                return False\n",
        "\n",
        "    return True\n",
        "\n",
        "def solve_sudoku(board):\n",
        "    \"\"\"\n",
        "    Solve the Sudoku puzzle using a backtracking algorithm.\n",
        "    This method systematically searches for a valid solution.\n",
        "    \"\"\"\n",
        "    for row in range(9):\n",
        "        for col in range(9):\n",
        "            if board[row][col] == 0:  # Find an empty cell\n",
        "                for num in range(1, 10):  # Try numbers 1-9\n",
        "                    if is_valid(board, row, col, num):\n",
        "                        board[row][col] = num  # Place the number\n",
        "                        if solve_sudoku(board):\n",
        "                            return True  # If solved, return True\n",
        "                        board[row][col] = 0  # Undo the move (backtrack)\n",
        "                return False  # No valid number found, backtrack\n",
        "    return True  # Puzzle solved\n",
        "\n",
        "def print_board(board):\n",
        "    \"\"\"\n",
        "    Print the Sudoku board in a readable format.\n",
        "    \"\"\"\n",
        "    for row in range(9):\n",
        "        if row % 3 == 0 and row != 0:\n",
        "            print(\"- - - - - - - - - - -\")\n",
        "        for col in range(9):\n",
        "            if col % 3 == 0 and col != 0:\n",
        "                print(\"|\", end=\" \")\n",
        "            print(board[row][col], end=\" \")\n",
        "        print()\n",
        "\n",
        "# Example Sudoku puzzle (0 represents empty cells)\n",
        "example_board = [\n",
        "    [5, 3, 0, 0, 7, 0, 0, 0, 0],\n",
        "    [6, 0, 0, 1, 9, 5, 0, 0, 0],\n",
        "    [0, 9, 8, 0, 0, 0, 0, 6, 0],\n",
        "    [8, 0, 0, 0, 6, 0, 0, 0, 3],\n",
        "    [4, 0, 0, 8, 0, 3, 0, 0, 1],\n",
        "    [7, 0, 0, 0, 2, 0, 0, 0, 6],\n",
        "    [0, 6, 0, 0, 0, 0, 2, 8, 0],\n",
        "    [0, 0, 0, 4, 1, 9, 0, 0, 5],\n",
        "    [0, 0, 0, 0, 8, 0, 0, 7, 9]\n",
        "]\n",
        "\n",
        "print(\"Original Sudoku Board:\")\n",
        "print_board(example_board)\n",
        "\n",
        "if solve_sudoku(example_board):\n",
        "    print(\"\\nSolved Sudoku Board:\")\n",
        "    print_board(example_board)\n",
        "else:\n",
        "    print(\"No solution exists.\")\n"
      ]
    }
  ]
}